{
  "nbformat": 4,
  "nbformat_minor": 0,
  "metadata": {
    "colab": {
      "provenance": []
    },
    "kernelspec": {
      "name": "python3",
      "display_name": "Python 3"
    },
    "language_info": {
      "name": "python"
    }
  },
  "cells": [
    {
      "cell_type": "code",
      "execution_count": 1,
      "metadata": {
        "id": "xHfGr-SLIZW4"
      },
      "outputs": [],
      "source": [
        "!pip install -q -U google-generativeai"
      ]
    },
    {
      "cell_type": "code",
      "source": [
        "\n",
        "import pathlib\n",
        "import textwrap\n",
        "\n",
        "import google.generativeai as genai\n",
        "\n",
        "# Used to securely store your API key\n",
        "from google.colab import userdata\n",
        "\n",
        "from IPython.display import display\n",
        "from IPython.display import Markdown\n",
        "\n",
        "\n",
        "def to_markdown(text):\n",
        "  text = text.replace('•', '  *')\n",
        "  return Markdown(textwrap.indent(text, '> ', predicate=lambda _: True))"
      ],
      "metadata": {
        "id": "xaajQig6If52"
      },
      "execution_count": 2,
      "outputs": []
    },
    {
      "cell_type": "code",
      "source": [
        "GOOGLE_API_KEY=userdata.get('gemini')\n",
        "\n",
        "genai.configure(api_key=GOOGLE_API_KEY)"
      ],
      "metadata": {
        "id": "KiMOkfQ9IjEV"
      },
      "execution_count": 3,
      "outputs": []
    },
    {
      "cell_type": "code",
      "source": [
        "for models in genai.list_models():\n",
        "  if 'generateContent' in models.supported_generation_methods:\n",
        "    print(models.name)"
      ],
      "metadata": {
        "colab": {
          "base_uri": "https://localhost:8080/",
          "height": 52
        },
        "id": "HdybqbFFIk4s",
        "outputId": "cf6d488a-c5ff-4c3e-91f6-1adb358847c2"
      },
      "execution_count": 4,
      "outputs": [
        {
          "output_type": "stream",
          "name": "stdout",
          "text": [
            "models/gemini-pro\n",
            "models/gemini-pro-vision\n"
          ]
        }
      ]
    },
    {
      "cell_type": "code",
      "source": [
        "genai.list_models()"
      ],
      "metadata": {
        "colab": {
          "base_uri": "https://localhost:8080/"
        },
        "id": "ZbHf8Tp_Imoa",
        "outputId": "1feedf6e-25c8-48f7-9aec-60fb6476d1aa"
      },
      "execution_count": 5,
      "outputs": [
        {
          "output_type": "execute_result",
          "data": {
            "text/plain": [
              "<generator object list_models at 0x7c76be799f50>"
            ]
          },
          "metadata": {},
          "execution_count": 5
        }
      ]
    },
    {
      "cell_type": "code",
      "source": [
        "for models in genai.list_models():\n",
        "  print(models.name)"
      ],
      "metadata": {
        "colab": {
          "base_uri": "https://localhost:8080/",
          "height": 138
        },
        "id": "0hiwgTplIsEm",
        "outputId": "bd0ca898-f368-457c-9497-0735f77a540b"
      },
      "execution_count": 6,
      "outputs": [
        {
          "output_type": "stream",
          "name": "stdout",
          "text": [
            "models/chat-bison-001\n",
            "models/text-bison-001\n",
            "models/embedding-gecko-001\n",
            "models/gemini-pro\n",
            "models/gemini-pro-vision\n",
            "models/embedding-001\n",
            "models/aqa\n"
          ]
        }
      ]
    },
    {
      "cell_type": "code",
      "source": [],
      "metadata": {
        "id": "SQasIj6ZNv8o"
      },
      "execution_count": null,
      "outputs": []
    },
    {
      "cell_type": "code",
      "source": [
        "model_id = \"models/text-bison-001\"\n",
        "prompt='''write a cover letter for a data science job applicaton.\n",
        "Summarize it to two paragraphs of 50 words each. '''\n",
        "\n",
        "completion=genai.generate_text(\n",
        "    model=model_id,\n",
        "    prompt=prompt,\n",
        "    temperature=0.99,\n",
        "    max_output_tokens=800,\n",
        ")\n",
        "\n",
        "print(completion.result)"
      ],
      "metadata": {
        "colab": {
          "base_uri": "https://localhost:8080/",
          "height": 315
        },
        "id": "DtqBRr5UJFXe",
        "outputId": "e99d2f65-f25c-49eb-eed0-f7874506f475"
      },
      "execution_count": 9,
      "outputs": [
        {
          "output_type": "stream",
          "name": "stdout",
          "text": [
            "Dear [Hiring Manager name],\n",
            "\n",
            "I am writing to express my interest in the Data Scientist position at [Company name]. I have been working as a Data Scientist for the past 5 years, and I have a strong track record of success in developing and implementing data-driven solutions.\n",
            "\n",
            "In my previous role at [Previous company name], I was responsible for developing and maintaining the company's data warehouse. I also led a team of data scientists in developing and deploying predictive models that improved the company's customer engagement and retention. I have a proven ability to work with large datasets, identify and communicate insights, and develop solutions that meet business goals.\n",
            "\n",
            "I am confident that I have the skills and experience that you are looking for in a Data Scientist. I am a highly motivated and results-oriented individual with a strong passion for data science. I am also a team player and I am eager to learn new things.\n",
            "\n",
            "I am eager to learn more about the Data Scientist position at [Company name]. I am available for an interview at your convenience. Thank you for your time and consideration.\n",
            "\n",
            "Sincerely,\n",
            "[Your name]\n",
            "\n",
            "**Paragraph 1:** I am writing to express my interest in the Data Scientist position at [Company name]. I have been working as a Data Scientist for the past 5 years, and I have a strong track record of success in developing and implementing data-driven solutions.\n",
            "\n",
            "**Paragraph 2:** In my previous role at [Previous company name], I was responsible for developing and maintaining the company's data warehouse. I also led a team of data scientists in developing and deploying predictive models that improved the company's customer engagement and retention. I have a proven ability to work with large datasets, identify and communicate insights, and develop solutions that meet business goals.\n"
          ]
        }
      ]
    },
    {
      "cell_type": "code",
      "source": [
        "model_id=\"models/chat-bison-001\"\n",
        "\n",
        "prompt='I need help with a job interview for a data analyst job. Can you help me?'\n",
        "\n",
        "examples=[\n",
        "    ('Hello', 'Hi there mr. How can I be assistant?'),\n",
        "    ('I want to get a High paying Job','I can work harder')\n",
        "]\n",
        "\n",
        "response=genai.chat(messages=prompt, temperature=0.2, context=\"Speak like a CEO\", examples=examples)\n",
        "for messages in response.messages:\n",
        "  print(\"Author: \",messages['author'])\n",
        "  print(\"Content: \", messages['content'])"
      ],
      "metadata": {
        "colab": {
          "base_uri": "https://localhost:8080/",
          "height": 263
        },
        "id": "W-CoGqJHSc03",
        "outputId": "ef5a8b62-6257-446e-adf4-06049950c665"
      },
      "execution_count": 24,
      "outputs": [
        {
          "output_type": "stream",
          "name": "stdout",
          "text": [
            "Author:  0\n",
            "Content:  I need help with a job interview for a data analyst job. Can you help me?\n",
            "Author:  1\n",
            "Content:  Sure, I can help you prepare for your data analyst job interview. Here are some tips:\n",
            "\n",
            "* **Research the company and the position.** Make sure you know what the company does, what the data analyst role entails, and what the company culture is like.\n",
            "* **Practice your data analysis skills.** This includes being able to clean, organize, and analyze data. You should also be able to communicate your findings effectively.\n",
            "* **Prepare for common interview questions.** Data analyst interview questions often focus on your skills, experience, and knowledge of data analysis. Be prepared to answer questions about your past projects, your ability to work with data, and your problem-solving skills.\n",
            "* **Dress professionally.** First impressions are important, so make sure you dress appropriately for the interview.\n",
            "* **Be confident.** Data analyst jobs are in high demand, so be confident in your skills and experience.\n",
            "* **Ask questions.** At the end of the interview, you will likely have the opportunity to ask questions. This is a good time to learn more about the company and the position.\n",
            "\n",
            "I hope these tips help you prepare for your data analyst job interview. Good luck!\n"
          ]
        }
      ]
    },
    {
      "cell_type": "code",
      "source": [
        "response.messages"
      ],
      "metadata": {
        "colab": {
          "base_uri": "https://localhost:8080/"
        },
        "id": "U9jGP7s6TQBi",
        "outputId": "720c925f-1d66-4b6e-bde8-0240405aadb0"
      },
      "execution_count": 26,
      "outputs": [
        {
          "output_type": "execute_result",
          "data": {
            "text/plain": [
              "[{'author': '0',\n",
              "  'content': 'I need help with a job interview for a data analyst job. Can you help me?'},\n",
              " {'author': '1',\n",
              "  'content': 'Sure, I can help you prepare for your data analyst job interview. Here are some tips:\\n\\n* **Research the company and the position.** Make sure you know what the company does, what the data analyst role entails, and what the company culture is like.\\n* **Practice your data analysis skills.** This includes being able to clean, organize, and analyze data. You should also be able to communicate your findings effectively.\\n* **Prepare for common interview questions.** Data analyst interview questions often focus on your skills, experience, and knowledge of data analysis. Be prepared to answer questions about your past projects, your ability to work with data, and your problem-solving skills.\\n* **Dress professionally.** First impressions are important, so make sure you dress appropriately for the interview.\\n* **Be confident.** Data analyst jobs are in high demand, so be confident in your skills and experience.\\n* **Ask questions.** At the end of the interview, you will likely have the opportunity to ask questions. This is a good time to learn more about the company and the position.\\n\\nI hope these tips help you prepare for your data analyst job interview. Good luck!'}]"
            ]
          },
          "metadata": {},
          "execution_count": 26
        }
      ]
    },
    {
      "cell_type": "code",
      "source": [
        "model_id=\"models/chat-bison-001\"\n",
        "\n",
        "prompt='I need help with a job interview for a data analyst job. Can you help me?'\n",
        "\n",
        "examples=[\n",
        "    ('Hello', 'Hi there mr. How can I be assistant?'),\n",
        "    ('I want to get a High paying Job','I can work harder')\n",
        "]\n",
        "\n",
        "response=genai.chat(messages=prompt, temperature=0.2, context=\"Speak like a CEO\", examples=examples)\n",
        "for messages in response.messages:\n",
        "  print(messages['author'],messages['content'])\n",
        "\n",
        "\n",
        "while True:\n",
        "  user = input()\n",
        "  if user == 'quit':\n",
        "    break\n",
        "  response=response.reply(user)\n",
        "  print(response.last)"
      ],
      "metadata": {
        "colab": {
          "base_uri": "https://localhost:8080/",
          "height": 644
        },
        "id": "uBcryIDDJtLJ",
        "outputId": "c13249a2-f434-49b5-f89a-dc894deebfff"
      },
      "execution_count": 20,
      "outputs": [
        {
          "name": "stdout",
          "output_type": "stream",
          "text": [
            "0 I need help with a job interview for a data analyst job. Can you help me?\n",
            "1 Sure, I can help you prepare for your data analyst job interview. Here are some tips:\n",
            "\n",
            "* **Research the company and the position.** Make sure you know what the company does, what the data analyst role entails, and what the company culture is like.\n",
            "* **Practice your data analysis skills.** This includes being able to clean, analyze, and visualize data. You should also be able to communicate your findings effectively.\n",
            "* **Prepare for common interview questions.** Data analyst interview questions often focus on your skills, experience, and knowledge of data analysis.\n",
            "* **Dress professionally.** First impressions are important, so make sure you dress appropriately for the interview.\n",
            "* **Be confident and positive.** Data analyst jobs are competitive, so it's important to show that you're a confident and positive candidate.\n",
            "* **Ask questions.** At the end of the interview, you'll usually have the opportunity to ask questions. This is a good chance to learn more about the company and the position.\n",
            "\n",
            "I hope these tips help you prepare for your data analyst job interview. Good luck!\n",
            "For Machine Learning Interviews\n",
            "Machine learning interviews can be tough, but there are a few things you can do to prepare and increase your chances of success.\n",
            "\n",
            "First, make sure you have a strong understanding of the fundamentals of machine learning. This includes topics such as supervised and unsupervised learning, classification and regression, and model evaluation.\n",
            "\n",
            "Second, practice solving machine learning problems. There are many online resources that offer practice problems, such as Kaggle and LeetCode.\n",
            "\n",
            "Third, be prepared to discuss your projects and experience. In a machine learning interview, you will likely be asked to discuss your past projects and experience with machine learning. Be prepared to talk about the problems you solved, the methods you used, and the results you achieved.\n",
            "\n",
            "Finally, be confident and positive. Machine learning interviews can be stressful, but it is important to stay calm and confident. Remember that the interviewer is just trying to get to know you and your skills.\n",
            "\n",
            "Here are some additional tips for acing your machine learning interview:\n",
            "\n",
            "* **Dress professionally.** First impressions are important, so make sure you dress appropriately for the interview.\n",
            "* **Be on time.** Punctuality is important, so make sure you arrive on time for your interview.\n",
            "* **Be polite and respectful.** The interviewer is trying to get to know you, so be polite and respectful throughout the interview.\n",
            "* **Be prepared to answer questions about your experience and skills.** The interviewer will likely ask you questions about your experience with machine learning, so be prepared to answer these questions.\n",
            "* **Be prepared to discuss your projects.** The interviewer may ask you to discuss your past projects, so be prepared to talk about the problems you solved, the methods you used, and the results you achieved.\n",
            "* **Be prepared to answer questions about your knowledge of machine learning.** The interviewer may ask you questions about your knowledge of machine learning, so be prepared to answer these questions.\n",
            "* **Be prepared to answer questions about your problem-solving skills.** The interviewer may ask you questions about your problem-solving skills, so be prepared to answer these questions.\n",
            "* **Be prepared to answer questions about your communication skills.** The interviewer may ask you questions about your communication skills, so be prepared to answer these questions.\n",
            "\n",
            "I hope these tips help you prepare for your machine learning interview. Good luck!\n",
            "quit\n"
          ]
        }
      ]
    },
    {
      "cell_type": "code",
      "source": [
        "model_id=\"models/chat-bison-001\"\n",
        "\n",
        "prompt='I need help with a job interview for a data analyst job. Can you help me?'\n",
        "\n",
        "context = \"Speak like a Expert in the field\"\n",
        "response=genai.chat(\n",
        "    model=model_id,\n",
        "    messages=prompt,\n",
        "    temperature=0.2,\n",
        "    context=context,\n",
        ")\n",
        "\n",
        "while True:\n",
        "  user = input()\n",
        "  if user == 'quit':\n",
        "    break\n",
        "\n",
        "  response=response.reply(user)\n",
        "  print(response.last)"
      ],
      "metadata": {
        "colab": {
          "base_uri": "https://localhost:8080/",
          "height": 679
        },
        "id": "rgGvDr4pMCDr",
        "outputId": "a961c243-bc70-4390-f4fc-d51d0ac961f8"
      },
      "execution_count": 22,
      "outputs": [
        {
          "name": "stdout",
          "output_type": "stream",
          "text": [
            "hi\n",
            "Hi there! How can I help you today?\n",
            "how to get into generative ai field\n",
            "Generative AI is a rapidly growing field with a lot of potential for innovation. If you're interested in getting into this field, there are a few things you can do to prepare:\n",
            "\n",
            "* **Learn the basics of AI.** This includes topics such as machine learning, deep learning, and natural language processing. There are many online resources and courses that can teach you the basics of AI.\n",
            "* **Gain experience with programming.** Generative AI algorithms are often implemented in programming languages such as Python or R. If you don't have any programming experience, I recommend learning a basic programming language such as Python.\n",
            "* **Build a portfolio of your work.** Once you have some experience with AI, start building a portfolio of your work. This could include projects you've worked on, blog posts you've written, or even just code you've written. Having a portfolio of your work will make you more attractive to potential employers.\n",
            "* **Network with other people in the field.** Attend conferences, meetups, and online forums to connect with other people who are interested in generative AI. Networking is a great way to learn about new opportunities and meet potential employers.\n",
            "* **Stay up-to-date on the latest research.** The field of generative AI is constantly evolving, so it's important to stay up-to-date on the latest research. There are many blogs, websites, and conferences that can help you stay informed.\n",
            "\n",
            "If you follow these tips, you'll be well on your way to getting into the field of generative AI. Good luck!\n",
            "can you give interview tips for Machine Learning interview\n",
            "Sure, here are some tips for a machine learning interview:\n",
            "\n",
            "* **Be prepared to discuss your experience with machine learning.** This includes your knowledge of algorithms, data sets, and evaluation metrics.\n",
            "* **Be able to talk about your skills in problem solving and critical thinking.** Machine learning engineers need to be able to identify problems, gather data, and analyze it to find solutions.\n",
            "* **Be confident in your abilities.** Machine learning engineers need to be able to work independently and as part of a team. They also need to be able to communicate their findings to others.\n",
            "* **Dress professionally.** First impressions are important, so make sure you dress appropriately for the interview.\n",
            "* **Be on time.** Punctuality is important, so make sure you arrive on time for your interview.\n",
            "* **Be polite and respectful.** The interviewer wants to get to know you, so be polite and respectful throughout the interview.\n",
            "* **Ask questions.** This shows that you are interested in the position and that you have done your research.\n",
            "* **Follow up after the interview.** Send a thank-you note to the interviewer within 24 hours of your interview.\n",
            "\n",
            "In addition to these general tips, here are some specific questions you may be asked in a machine learning interview:\n",
            "\n",
            "* **What are your strengths and weaknesses?**\n",
            "* **Why are you interested in machine learning?**\n",
            "* **What are your favorite machine learning algorithms?**\n",
            "* **Can you walk me through the process of building a machine learning model?**\n",
            "* **What are some of the challenges you've faced in your machine learning work?**\n",
            "* **What are your salary expectations?**\n",
            "\n",
            "Be prepared to answer these questions in a clear and concise way. If you're not sure how to answer a question, don't be afraid to ask for clarification.\n",
            "\n",
            "The most important thing is to be yourself and to be confident in your abilities. If you do that, you'll be well on your way to acing your machine learning interview.\n",
            "quit\n"
          ]
        }
      ]
    },
    {
      "cell_type": "code",
      "source": [
        "model_id=\"models/chat-bison-001\"\n",
        "\n",
        "prompt='I need help with a job interview for a data analyst job. Can you help me?'\n",
        "\n",
        "context = f\"\"\"\n",
        "Reply with only correct answer if you don't know the answer reply \"Out of Context\".\n",
        "Question: {prompt}\n",
        "Answer:\n",
        "\"\"\"\n",
        "\n",
        "response=genai.chat(\n",
        "    model=model_id,\n",
        "    messages=prompt,\n",
        "    temperature=0.2,\n",
        "    context=context,\n",
        ")\n",
        "\n",
        "while True:\n",
        "  user = input(\"User: \")\n",
        "  if user == 'quit':\n",
        "    break\n",
        "  response=response.reply(user)\n",
        "  print(\"Assistant: \", response.last)"
      ],
      "metadata": {
        "colab": {
          "base_uri": "https://localhost:8080/",
          "height": 193
        },
        "id": "8YQ2NKQsQPEa",
        "outputId": "2a2f858d-bcde-4205-9518-045702890cf2"
      },
      "execution_count": 27,
      "outputs": [
        {
          "name": "stdout",
          "output_type": "stream",
          "text": [
            "User: Who won 2023 Cricket World Cup\n",
            "Assistant:  The 2023 Cricket World Cup is scheduled to be the 13th edition of the Cricket World Cup, scheduled to be hosted by India in October and November 2023. It will be the first time that the tournament has been hosted entirely by India. The tournament will be played in a round-robin format, with the top four teams progressing to the semi-finals. The final will be played at the Narendra Modi Stadium in Ahmedabad.\n",
            "\n",
            "The current champions are England, who won the 2019 Cricket World Cup.\n",
            "User: Who won 2022 Cricket World Cup\n",
            "Assistant:  There was no Cricket World Cup in 2022. The last Cricket World Cup was held in 2019, and was won by England. The next Cricket World Cup will be held in 2023, and will be hosted by India.\n",
            "User: Who won 2022 t20 Cricket World Cup\n",
            "Assistant:  Australia won the 2022 ICC Men's T20 World Cup, defeating New Zealand by eight wickets in the final. Australia became the first team to win the T20 World Cup twice, having also won the inaugural tournament in 2007.\n",
            "User: quit\n"
          ]
        }
      ]
    },
    {
      "cell_type": "code",
      "source": [],
      "metadata": {
        "id": "0qEzo1fiUZQQ"
      },
      "execution_count": null,
      "outputs": []
    }
  ]
}